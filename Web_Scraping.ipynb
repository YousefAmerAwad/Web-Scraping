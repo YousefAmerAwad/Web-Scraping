{
 "cells": [
  {
   "cell_type": "code",
   "execution_count": null,
   "metadata": {},
   "outputs": [],
   "source": [
    "import requests\n",
    "import csv\n",
    "from bs4 import BeautifulSoup\n",
    "from itertools import zip_longest\n",
    "import pandas as pd"
   ]
  },
  {
   "cell_type": "code",
   "execution_count": null,
   "metadata": {},
   "outputs": [],
   "source": [
    "page = requests.get('https://wuzzuf.net/search/jobs/?a=hpb&q=data%20science')   #fetch this url"
   ]
  },
  {
   "cell_type": "code",
   "execution_count": null,
   "metadata": {},
   "outputs": [],
   "source": [
    "content = page.content  #page content"
   ]
  },
  {
   "cell_type": "code",
   "execution_count": null,
   "metadata": {},
   "outputs": [],
   "source": [
    "soup = BeautifulSoup(content,'lxml')    #create soup object to parse content"
   ]
  },
  {
   "cell_type": "markdown",
   "metadata": {},
   "source": [
    "<br>\n",
    "\n",
    "Initialize the lists contain the info we need"
   ]
  },
  {
   "cell_type": "code",
   "execution_count": null,
   "metadata": {},
   "outputs": [],
   "source": [
    "jop_title = []\n",
    "company_name = []\n",
    "location = []\n",
    "info_and_skills = []\n",
    "type = []"
   ]
  },
  {
   "cell_type": "markdown",
   "metadata": {},
   "source": [
    "<br>\n",
    "\n",
    "Find the html elements containing info we need"
   ]
  },
  {
   "cell_type": "code",
   "execution_count": null,
   "metadata": {},
   "outputs": [],
   "source": [
    "jop_title_html = soup.find_all('h2',{'class':'css-m604qf'})\n",
    "company_name_html = soup.find_all('a', {'class':'css-17s97q8'})\n",
    "location_html = soup.find_all('span',{'class':'css-5wys0k'})\n",
    "info_and_skills_html = soup.find_all('div',{'class':'css-y4udm8'})\n",
    "type_html = soup.find_all('div',{'class':'css-1lh32fc'})\n",
    "jop_title_html"
   ]
  },
  {
   "cell_type": "markdown",
   "metadata": {},
   "source": [
    "<br>\n",
    "\n",
    "Loop over returned list to extract needed info"
   ]
  },
  {
   "cell_type": "code",
   "execution_count": null,
   "metadata": {},
   "outputs": [],
   "source": [
    "for i in range(len(jop_title_html)):\n",
    "    jop_title.append(jop_title_html[i].text)\n",
    "    company_name.append(company_name_html[i].text)\n",
    "    location.append(location_html[i].text)\n",
    "    info_and_skills.append(info_and_skills_html[i].text)\n",
    "    type.append(type_html[i].text)\n",
    "\n"
   ]
  },
  {
   "cell_type": "markdown",
   "metadata": {},
   "source": [
    "<br>\n",
    "\n",
    "Create data frame"
   ]
  },
  {
   "cell_type": "code",
   "execution_count": null,
   "metadata": {},
   "outputs": [],
   "source": [
    "dict = {'jop_title': jop_title, 'company_name': company_name, 'location': location, 'info_and_skills': info_and_skills, 'type': type}  \n",
    "df = pd.DataFrame(dict)\n",
    "df"
   ]
  }
 ],
 "metadata": {
  "kernelspec": {
   "display_name": "Python 3.10.5 64-bit",
   "language": "python",
   "name": "python3"
  },
  "language_info": {
   "codemirror_mode": {
    "name": "ipython",
    "version": 3
   },
   "file_extension": ".py",
   "mimetype": "text/x-python",
   "name": "python",
   "nbconvert_exporter": "python",
   "pygments_lexer": "ipython3",
   "version": "3.10.5"
  },
  "orig_nbformat": 4,
  "vscode": {
   "interpreter": {
    "hash": "82a9f30eca97479f9e0bcdf34e094686812eb001ef56033a9a73323e1120c6ad"
   }
  }
 },
 "nbformat": 4,
 "nbformat_minor": 2
}
